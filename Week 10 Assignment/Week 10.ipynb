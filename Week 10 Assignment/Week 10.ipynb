{
 "cells": [
  {
   "cell_type": "code",
   "execution_count": 37,
   "metadata": {},
   "outputs": [],
   "source": [
    "import pandas as pd, numpy as np, os\n",
    "from scipy import stats\n",
    "from pathlib import Path\n",
    "\n",
    "os.chdir(Path())\n",
    "\n",
    "survey_data = pd.read_csv('survey_data.csv')\n",
    "qb_stats = pd.read_csv('qb_stats.csv', index_col='name')"
   ]
  },
  {
   "cell_type": "code",
   "execution_count": 16,
   "metadata": {},
   "outputs": [
    {
     "data": {
      "text/html": [
       "<div>\n",
       "<style scoped>\n",
       "    .dataframe tbody tr th:only-of-type {\n",
       "        vertical-align: middle;\n",
       "    }\n",
       "\n",
       "    .dataframe tbody tr th {\n",
       "        vertical-align: top;\n",
       "    }\n",
       "\n",
       "    .dataframe thead th {\n",
       "        text-align: right;\n",
       "    }\n",
       "</style>\n",
       "<table border=\"1\" class=\"dataframe\">\n",
       "  <thead>\n",
       "    <tr style=\"text-align: right;\">\n",
       "      <th></th>\n",
       "      <th>games</th>\n",
       "      <th>att</th>\n",
       "      <th>cmp</th>\n",
       "      <th>comp_pct</th>\n",
       "      <th>yds</th>\n",
       "      <th>ypa</th>\n",
       "      <th>td</th>\n",
       "      <th>int</th>\n",
       "      <th>sack</th>\n",
       "      <th>loss</th>\n",
       "      <th>rating</th>\n",
       "    </tr>\n",
       "  </thead>\n",
       "  <tbody>\n",
       "    <tr>\n",
       "      <th>mean</th>\n",
       "      <td>14.125000</td>\n",
       "      <td>478.406250</td>\n",
       "      <td>306.562500</td>\n",
       "      <td>64.296875</td>\n",
       "      <td>3515.062500</td>\n",
       "      <td>7.375000</td>\n",
       "      <td>22.375000</td>\n",
       "      <td>10.343750</td>\n",
       "      <td>32.312500</td>\n",
       "      <td>217.093750</td>\n",
       "      <td>93.387500</td>\n",
       "    </tr>\n",
       "    <tr>\n",
       "      <th>std</th>\n",
       "      <td>2.406309</td>\n",
       "      <td>110.360366</td>\n",
       "      <td>68.929575</td>\n",
       "      <td>3.627537</td>\n",
       "      <td>852.437489</td>\n",
       "      <td>0.796768</td>\n",
       "      <td>6.256609</td>\n",
       "      <td>5.839849</td>\n",
       "      <td>10.514008</td>\n",
       "      <td>70.786075</td>\n",
       "      <td>11.054725</td>\n",
       "    </tr>\n",
       "  </tbody>\n",
       "</table>\n",
       "</div>"
      ],
      "text/plain": [
       "          games         att         cmp   comp_pct          yds       ypa  \\\n",
       "mean  14.125000  478.406250  306.562500  64.296875  3515.062500  7.375000   \n",
       "std    2.406309  110.360366   68.929575   3.627537   852.437489  0.796768   \n",
       "\n",
       "             td        int       sack        loss     rating  \n",
       "mean  22.375000  10.343750  32.312500  217.093750  93.387500  \n",
       "std    6.256609   5.839849  10.514008   70.786075  11.054725  "
      ]
     },
     "execution_count": 16,
     "metadata": {},
     "output_type": "execute_result"
    }
   ],
   "source": [
    "qb_stats.select_dtypes(include=[np.number]).agg([np.mean, np.std]) #1A and 1B\n"
   ]
  },
  {
   "cell_type": "code",
   "execution_count": 25,
   "metadata": {},
   "outputs": [
    {
     "data": {
      "text/plain": [
       "<AxesSubplot: ylabel='Frequency'>"
      ]
     },
     "execution_count": 25,
     "metadata": {},
     "output_type": "execute_result"
    },
    {
     "data": {
      "image/png": "[encoded data removed]",
      "text/plain": [
       "<Figure size 432x288 with 1 Axes>"
      ]
     },
     "metadata": {},
     "output_type": "display_data"
    }
   ],
   "source": [
    "qb_stats['yds'].plot(kind='hist', width=200) #1C"
   ]
  },
  {
   "cell_type": "code",
   "execution_count": 45,
   "metadata": {},
   "outputs": [
    {
     "data": {
      "text/html": [
       "<div>\n",
       "<style scoped>\n",
       "    .dataframe tbody tr th:only-of-type {\n",
       "        vertical-align: middle;\n",
       "    }\n",
       "\n",
       "    .dataframe tbody tr th {\n",
       "        vertical-align: top;\n",
       "    }\n",
       "\n",
       "    .dataframe thead th {\n",
       "        text-align: right;\n",
       "    }\n",
       "</style>\n",
       "<table border=\"1\" class=\"dataframe\">\n",
       "  <thead>\n",
       "    <tr style=\"text-align: right;\">\n",
       "      <th></th>\n",
       "      <th>team</th>\n",
       "      <th>games</th>\n",
       "      <th>att</th>\n",
       "      <th>cmp</th>\n",
       "      <th>comp_pct</th>\n",
       "      <th>yds</th>\n",
       "      <th>ypa</th>\n",
       "      <th>td</th>\n",
       "      <th>int</th>\n",
       "      <th>sack</th>\n",
       "      <th>loss</th>\n",
       "      <th>rating</th>\n",
       "    </tr>\n",
       "    <tr>\n",
       "      <th>name</th>\n",
       "      <th></th>\n",
       "      <th></th>\n",
       "      <th></th>\n",
       "      <th></th>\n",
       "      <th></th>\n",
       "      <th></th>\n",
       "      <th></th>\n",
       "      <th></th>\n",
       "      <th></th>\n",
       "      <th></th>\n",
       "      <th></th>\n",
       "      <th></th>\n",
       "    </tr>\n",
       "  </thead>\n",
       "  <tbody>\n",
       "    <tr>\n",
       "      <th>Joe Flacco</th>\n",
       "      <td>DEN</td>\n",
       "      <td>8.0</td>\n",
       "      <td>262.0</td>\n",
       "      <td>171.0</td>\n",
       "      <td>65.3</td>\n",
       "      <td>1822.0</td>\n",
       "      <td>7.0</td>\n",
       "      <td>6.0</td>\n",
       "      <td>5.0</td>\n",
       "      <td>26.0</td>\n",
       "      <td>194.0</td>\n",
       "      <td>85.1</td>\n",
       "    </tr>\n",
       "  </tbody>\n",
       "</table>\n",
       "</div>"
      ],
      "text/plain": [
       "           team  games    att    cmp  comp_pct     yds  ypa   td  int  sack  \\\n",
       "name                                                                          \n",
       "Joe Flacco  DEN    8.0  262.0  171.0      65.3  1822.0  7.0  6.0  5.0  26.0   \n",
       "\n",
       "             loss  rating  \n",
       "name                       \n",
       "Joe Flacco  194.0    85.1  "
      ]
     },
     "metadata": {},
     "output_type": "display_data"
    },
    {
     "data": {
      "image/png": "[encoded data removed]",
      "text/plain": [
       "<Figure size 432x288 with 1 Axes>"
      ]
     },
     "metadata": {},
     "output_type": "display_data"
    }
   ],
   "source": [
    "qb_box = qb_stats['td'].plot(kind='box', ylabel='Count of Touchdowns') #1D\n",
    "td_iqr = stats.iqr(qb_stats['td'])\n",
    "lower_bound = np.quantile(qb_stats['td'],0.25) - 1.5 * td_iqr\n",
    "upper_bound = np.quantile(qb_stats['td'], 0.75) + 1.5 * td_iqr\n",
    "outliers = qb_stats.query(f'td > {upper_bound} or td < {lower_bound}')\n",
    "display(outliers)"
   ]
  },
  {
   "cell_type": "code",
   "execution_count": 55,
   "metadata": {},
   "outputs": [
    {
     "name": "stdout",
     "output_type": "stream",
     "text": [
      "Brown Hair Prob: 0.5123456790123457\n",
      "Blue Eyes Prob: 0.24691358024691357\n",
      "Blue Eyes given Brown Hair Prob: 0.06096631611034902\n",
      "Brown Hair given Blue Eyes Prob: 0.2624980948026216\n"
     ]
    }
   ],
   "source": [
    "brown_hair_prob = len(survey_data.query('hair_color == \"brown\"'))/len(survey_data['hair_color']) #2A\n",
    "blue_eyes_prob = len(survey_data.query('eye_color == \"blue\"'))/len(survey_data['eye_color']) #2B\n",
    "blue_eyes_and_brown_hair_prob = brown_hair_prob * blue_eyes_prob\n",
    "eyes_given_hair_prob = blue_eyes_prob * blue_eyes_and_brown_hair_prob / brown_hair_prob#2C\n",
    "hair_given_eyes_prob = brown_hair_prob * blue_eyes_and_brown_hair_prob / blue_eyes_prob #2D\n",
    "print(f'''Brown Hair Prob: {brown_hair_prob}\n",
    "Blue Eyes Prob: {blue_eyes_prob}\n",
    "Blue Eyes given Brown Hair Prob: {eyes_given_hair_prob}\n",
    "Brown Hair given Blue Eyes Prob: {hair_given_eyes_prob}''')"
   ]
  },
  {
   "attachments": {},
   "cell_type": "markdown",
   "metadata": {},
   "source": [
    "2E) Since the probability of the outcomes differ based on the conditional variable, we can assume that the traits are somewhat dependent on each other (this is genetically the case at least)"
   ]
  },
  {
   "cell_type": "code",
   "execution_count": 65,
   "metadata": {},
   "outputs": [
    {
     "data": {
      "text/plain": [
       "<AxesSubplot: xlabel='Hair Color', ylabel='Count of Color'>"
      ]
     },
     "execution_count": 65,
     "metadata": {},
     "output_type": "execute_result"
    },
    {
     "data": {
      "image/png": "[encoded data removed]",
      "text/plain": [
       "<Figure size 432x288 with 1 Axes>"
      ]
     },
     "metadata": {},
     "output_type": "display_data"
    }
   ],
   "source": [
    "survey_data['hair_color'].value_counts().plot(kind='bar', ylabel='Count of Color', xlabel='Hair Color')"
   ]
  },
  {
   "cell_type": "code",
   "execution_count": 64,
   "metadata": {},
   "outputs": [
    {
     "data": {
      "text/plain": [
       "<AxesSubplot: xlabel='Eye Color', ylabel='Count of Color'>"
      ]
     },
     "execution_count": 64,
     "metadata": {},
     "output_type": "execute_result"
    },
    {
     "data": {
      "image/png": "[encoded data removed]",
      "text/plain": [
       "<Figure size 432x288 with 1 Axes>"
      ]
     },
     "metadata": {},
     "output_type": "display_data"
    }
   ],
   "source": [
    "survey_data['eye_color'].value_counts().plot(kind='bar', ylabel='Count of Color', xlabel='Eye Color')"
   ]
  }
 ],
 "metadata": {
  "kernelspec": {
   "display_name": "Python 3",
   "language": "python",
   "name": "python3"
  },
  "language_info": {
   "codemirror_mode": {
    "name": "ipython",
    "version": 3
   },
   "file_extension": ".py",
   "mimetype": "text/x-python",
   "name": "python",
   "nbconvert_exporter": "python",
   "pygments_lexer": "ipython3",
   "version": "3.9.9"
  },
  "orig_nbformat": 4,
  "vscode": {
   "interpreter": {
    "hash": "23b37b2c5ef3af92e6c5a1f41260f4d7d87b94b19a6a0241a9df183c040122f9"
   }
  }
 },
 "nbformat": 4,
 "nbformat_minor": 2
}

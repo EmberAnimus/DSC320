{
 "cells": [
  {
   "cell_type": "code",
   "execution_count": 7,
   "metadata": {},
   "outputs": [
    {
     "name": "stdout",
     "output_type": "stream",
     "text": [
      "If a graphics card is a defective, the probability it was from Process A is: 17.67%\n",
      "If a graphics card is not defective, the probability it was from Process C is: 20.98%\n"
     ]
    }
   ],
   "source": [
    "import scipy.stats as stats, numpy as np\n",
    "\n",
    "def calc_bayes_prob(probA, probB, probBA):\n",
    "    return probA * probBA / probB\n",
    "\n",
    "prob_a_def = 0.03\n",
    "prob_b_def = 0.02\n",
    "prob_c_def = 0.04\n",
    "defective_prob = (prob_a_def * (1 - prob_b_def) * (1 - 0.04) + (1 - prob_a_def) * prob_b_def * (1 - prob_c_def) + (1 - prob_a_def) * (1 - prob_b_def) * prob_c_def)\n",
    "print(f'If a graphics card is a defective, the probability it was from Process A is: {calc_bayes_prob(0.5,defective_prob, prob_a_def):.2%}') #1A\n",
    "print(f'If a graphics card is not defective, the probability it was from Process C is: {calc_bayes_prob(0.2, (1-defective_prob), 0.96):.2%}') #1B\n",
    "\n",
    "#I didn't exactly understand this section, so its entirely possible my answers are wrong. "
   ]
  },
  {
   "cell_type": "code",
   "execution_count": 17,
   "metadata": {},
   "outputs": [
    {
     "name": "stdout",
     "output_type": "stream",
     "text": [
      "The Entropy of X is 2.321928094887362. The Entropy of Y is 2.046439344671015\n"
     ]
    }
   ],
   "source": [
    "def get_entropy(pk): #2\n",
    "    ent = np.sum([x*(-np.log2(x)) for x in pk])\n",
    "    return ent\n",
    "\n",
    "x_probs = [0.2, 0.2, 0.2, 0.2, 0.2]\n",
    "y_probs = [0.1, 0.4, 0.1, 0.3, 0.1]\n",
    "\n",
    "print(f'The Entropy of X is {get_entropy(x_probs)}. The Entropy of Y is {get_entropy(y_probs)}') #3A"
   ]
  },
  {
   "attachments": {},
   "cell_type": "markdown",
   "metadata": {},
   "source": [
    "3B) In a sense the entropy of these functions measure the \"uncertainty\" of the outcome. By different probabilities you can be a little more certain on some outcomes than others. In this particular case, since we have 2 probabilities higher than the rest in the Y set, we are more certain of those outcomes. Comparitively, in the X set of probabilities, its a complete gamble on which will occur."
   ]
  }
 ],
 "metadata": {
  "kernelspec": {
   "display_name": "Python 3",
   "language": "python",
   "name": "python3"
  },
  "language_info": {
   "codemirror_mode": {
    "name": "ipython",
    "version": 3
   },
   "file_extension": ".py",
   "mimetype": "text/x-python",
   "name": "python",
   "nbconvert_exporter": "python",
   "pygments_lexer": "ipython3",
   "version": "3.9.9"
  },
  "orig_nbformat": 4,
  "vscode": {
   "interpreter": {
    "hash": "23b37b2c5ef3af92e6c5a1f41260f4d7d87b94b19a6a0241a9df183c040122f9"
   }
  }
 },
 "nbformat": 4,
 "nbformat_minor": 2
}

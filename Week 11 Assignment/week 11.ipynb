{
 "cells": [
  {
   "cell_type": "code",
   "execution_count": 11,
   "metadata": {},
   "outputs": [],
   "source": [
    "import scipy.stats as stat, numpy as np\n",
    "from matplotlib import pyplot as plt"
   ]
  },
  {
   "cell_type": "code",
   "execution_count": 29,
   "metadata": {},
   "outputs": [
    {
     "name": "stdout",
     "output_type": "stream",
     "text": [
      "1A) 0.8512830492077244\n"
     ]
    }
   ],
   "source": [
    "total_acc = np.sum(stat.binom.pmf(k=range(8,16), n=15, p=0.63))\n",
    "print(f'1A) {total_acc}')"
   ]
  },
  {
   "cell_type": "code",
   "execution_count": 40,
   "metadata": {},
   "outputs": [
    {
     "name": "stdout",
     "output_type": "stream",
     "text": [
      "2B) Total Accuracy is 95.9% with an individual accuracy of 71.0%\n",
      "3B) Total models for 95.2% total probability is 21\n"
     ]
    }
   ],
   "source": [
    "trial_prob = total_acc\n",
    "p = 0.63\n",
    "num_models = 15\n",
    "while trial_prob <= 0.95:\n",
    "    p += 0.01\n",
    "    trial_prob = np.sum(stat.binom.pmf(k=range(8,16), n=15, p=p))\n",
    "\n",
    "print(f'2B) Total Accuracy is {trial_prob:.1%} with an individual accuracy of {p:.1%}')\n",
    "\n",
    "trial_prob = total_acc\n",
    "\n",
    "while trial_prob <= 0.95:\n",
    "    num_models += 2\n",
    "    trial_prob = np.sum(stat.binom.pmf(k=range(int(np.round(num_models/2)),num_models+1), n=num_models, p=0.63))\n",
    "print(f'3B) Total models for {trial_prob:.1%} total probability is {num_models}')"
   ]
  },
  {
   "cell_type": "code",
   "execution_count": 52,
   "metadata": {},
   "outputs": [
    {
     "name": "stdout",
     "output_type": "stream",
     "text": [
      "2D The shape of the historgram is a normal distribution. The Central Limit Theorem tells us this \n",
      "2E List Mean: 0.19682933936875002. List Standard Deviation: 0.015164024677080057\n"
     ]
    },
    {
     "data": {
      "image/png": "[encoded data removed]",
      "text/plain": [
       "<Figure size 432x288 with 1 Axes>"
      ]
     },
     "metadata": {},
     "output_type": "display_data"
    }
   ],
   "source": [
    "#2A\n",
    "def get_prob(x):\n",
    "    return stat.binom.pmf(x, p=0.45, n=5)\n",
    "\n",
    "#2B and 2C\n",
    "def prob_iter_rand(num_rand=50, num_iter=1000):\n",
    "    num_gen = np.random\n",
    "    pmf_list = [np.mean([get_prob(num_gen.choice(5)) for _ in range(num_rand)]) for _ in range(num_iter)]\n",
    "    \n",
    "    return pmf_list\n",
    "random_prob_list = prob_iter_rand()\n",
    "\n",
    "#2D\n",
    "plt.hist(random_prob_list)\n",
    "print('2D The shape of the historgram is a normal distribution. The Central Limit Theorem tells us this ')\n",
    "\n",
    "#2E\n",
    "print(f'2E List Mean: {np.mean(random_prob_list)}. List Standard Deviation: {np.std(random_prob_list)}')"
   ]
  }
 ],
 "metadata": {
  "kernelspec": {
   "display_name": "Python 3",
   "language": "python",
   "name": "python3"
  },
  "language_info": {
   "codemirror_mode": {
    "name": "ipython",
    "version": 3
   },
   "file_extension": ".py",
   "mimetype": "text/x-python",
   "name": "python",
   "nbconvert_exporter": "python",
   "pygments_lexer": "ipython3",
   "version": "3.9.9"
  },
  "orig_nbformat": 4,
  "vscode": {
   "interpreter": {
    "hash": "23b37b2c5ef3af92e6c5a1f41260f4d7d87b94b19a6a0241a9df183c040122f9"
   }
  }
 },
 "nbformat": 4,
 "nbformat_minor": 2
}

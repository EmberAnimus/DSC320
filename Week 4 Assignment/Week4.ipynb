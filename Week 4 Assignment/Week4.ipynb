{
 "cells": [
  {
   "cell_type": "code",
   "execution_count": 56,
   "metadata": {},
   "outputs": [],
   "source": [
    "import pandas as pd, numpy as np, sympy\n",
    "\n",
    "x, y, z = sympy.symbols('x y z')\n",
    "sympy.init_printing()"
   ]
  },
  {
   "cell_type": "code",
   "execution_count": 13,
   "metadata": {},
   "outputs": [
    {
     "name": "stdout",
     "output_type": "stream",
     "text": [
      "A)\n"
     ]
    },
    {
     "data": {
      "image/png": "[encoded data removed]",
      "text/latex": [
       "$\\displaystyle \\lim_{x \\to 3^+}\\left(2 x^{3} - 4 x + 1\\right)$"
      ],
      "text/plain": [
       "     ⎛   3          ⎞\n",
       " lim ⎝2⋅x  - 4⋅x + 1⎠\n",
       "x─→3⁺                "
      ]
     },
     "metadata": {},
     "output_type": "display_data"
    },
    {
     "name": "stdout",
     "output_type": "stream",
     "text": [
      "The value of f(x) [shown above] when approaching 3 is 43\n",
      "B)\n"
     ]
    },
    {
     "data": {
      "image/png": "[encoded data removed]",
      "text/latex": [
       "$\\displaystyle \\lim_{x \\to 0^+}\\left(\\frac{2.71828182845905^{x} - 1}{x}\\right)$"
      ],
      "text/plain": [
       "     ⎛                x    ⎞\n",
       "     ⎜2.71828182845905  - 1⎟\n",
       " lim ⎜─────────────────────⎟\n",
       "x─→0⁺⎝          x          ⎠"
      ]
     },
     "metadata": {},
     "output_type": "display_data"
    },
    {
     "name": "stdout",
     "output_type": "stream",
     "text": [
      "The value of g(x) [shown above] when approaching 0 is -log(20000000000000) + log(54365636569181)\n"
     ]
    }
   ],
   "source": [
    "\n",
    "fx_lim = sympy.Limit(2*np.power(x,3)-4*x+1,x,3)\n",
    "fx_lim_eval = fx_lim.doit()\n",
    "\n",
    "gx_lim = sympy.Limit((np.power(np.e,x)-1)/x,x,0)\n",
    "gx_lim_eval = gx_lim.doit()\n",
    "\n",
    "print(\"A)\")\n",
    "display(fx_lim)\n",
    "print(f'The value of f(x) [shown above] when approaching 3 is {fx_lim_eval}')\n",
    "\n",
    "print(\"B)\")\n",
    "display(gx_lim)\n",
    "print(f'The value of g(x) [shown above] when approaching 0 is {gx_lim_eval}')\n"
   ]
  },
  {
   "attachments": {},
   "cell_type": "markdown",
   "metadata": {},
   "source": [
    "C) \n",
    "\n",
    "The limits in part A can be calculated by putting 3 in the formula, however in part B this cannot be done. The reason is due to dividing by the X variable in part B. As a result of this there won't be a value at 0, but there are values as you get infinitely close to 0 on the positive and negative ends. "
   ]
  },
  {
   "cell_type": "code",
   "execution_count": 54,
   "metadata": {},
   "outputs": [
    {
     "name": "stdout",
     "output_type": "stream",
     "text": [
      "Function Test: 3.0 \n",
      "\n",
      "3A) 53.89999999999999\n",
      "3B) 51.45000000000002\n",
      "3C) 49.490000000000016\n",
      "3D) 49.00001776356692\n",
      "3E)\n"
     ]
    },
    {
     "data": {
      "image/png": "[encoded data removed]",
      "text/latex": [
       "$\\displaystyle 9.8 x$"
      ],
      "text/plain": [
       "9.8⋅x"
      ]
     },
     "metadata": {},
     "output_type": "display_data"
    },
    {
     "name": "stdout",
     "output_type": "stream",
     "text": [
      "3F) 49.0\n",
      "This is approximately the same as the values in 3D. \n",
      "The derivative is for finding the slope at a given instance of time, which is the same as what we attempted to do in 3D\n"
     ]
    }
   ],
   "source": [
    "#Average rate of change function.\n",
    "def rate_of_change(formula:str, x1:float=0, x2:float=1, error_warn:bool=True) -> float:\n",
    "    'takes in a formula (e.g 3*x**2), uses lambda to evaluate f(x1) and f(x2), then computes and returns the average rate of change'\n",
    "    try:\n",
    "        f = lambda x: eval(formula)\n",
    "        y1 = f(x1)\n",
    "        y2 = f(x2)\n",
    "        avg_roc = (y2-y1)/(x2-x1)\n",
    "        return avg_roc\n",
    "    except ZeroDivisionError:\n",
    "        if error_warn:\n",
    "            print(\"Your formula or x slope resulted in trying to divide by zero. Please check and try again. You can supress this message by setting error_warn to false\")\n",
    "        return None\n",
    "    except Exception as e:\n",
    "        if error_warn:\n",
    "            print(e)\n",
    "        return None\n",
    "\n",
    "print(f'Function Test: {rate_of_change(\"3*x**2\", 0, 1, error_warn=False)} \\n')\n",
    "\n",
    "problem_3_func = \"4.9*x**2\"\n",
    "\n",
    "print(f'3A) {rate_of_change(problem_3_func, 5, 6)}')\n",
    "print(f'3B) {rate_of_change(problem_3_func, 5, 5.5)}')\n",
    "print(f'3C) {rate_of_change(problem_3_func, 5, 5.1)}')\n",
    "print(f'3D) {rate_of_change(problem_3_func, 5, 5.0000000001)}')\n",
    "print(f'3E)')\n",
    "display(sympy.diff(problem_3_func))\n",
    "print(f'''3F) {9.8*5}\n",
    "This is approximately the same as the values in 3D. \n",
    "The derivative is for finding the slope at a given instance of time, which is the same as what we attempted to do in 3D''')"
   ]
  },
  {
   "cell_type": "code",
   "execution_count": 62,
   "metadata": {},
   "outputs": [
    {
     "name": "stdout",
     "output_type": "stream",
     "text": [
      "4A) 26200\n",
      "4B) -1800\n",
      "4C) 2400\n"
     ]
    }
   ],
   "source": [
    "problem_4_func = 16000 + 2400*x - 1800*y\n",
    "problem_4_eval = sympy.lambdify([x,y], problem_4_func)\n",
    "\n",
    "print(f'4A) {problem_4_eval(8,5)}')\n",
    "print(f'4B) {sympy.diff(problem_4_func, y)}')\n",
    "print(f'4C) {sympy.diff(problem_4_func, x)}')\n"
   ]
  }
 ],
 "metadata": {
  "kernelspec": {
   "display_name": "Python 3",
   "language": "python",
   "name": "python3"
  },
  "language_info": {
   "codemirror_mode": {
    "name": "ipython",
    "version": 3
   },
   "file_extension": ".py",
   "mimetype": "text/x-python",
   "name": "python",
   "nbconvert_exporter": "python",
   "pygments_lexer": "ipython3",
   "version": "3.9.9"
  },
  "orig_nbformat": 4,
  "vscode": {
   "interpreter": {
    "hash": "23b37b2c5ef3af92e6c5a1f41260f4d7d87b94b19a6a0241a9df183c040122f9"
   }
  }
 },
 "nbformat": 4,
 "nbformat_minor": 2
}
